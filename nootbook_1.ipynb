{
  "nbformat": 4,
  "nbformat_minor": 0,
  "metadata": {
    "colab": {
      "name": "nootbook-1.ipynb",
      "provenance": [],
      "collapsed_sections": [],
      "toc_visible": true,
      "authorship_tag": "ABX9TyOKTN+Cg0KJKaZEBr6U6AqX",
      "include_colab_link": true
    },
    "kernelspec": {
      "name": "python3",
      "display_name": "Python 3"
    }
  },
  "cells": [
    {
      "cell_type": "markdown",
      "metadata": {
        "id": "view-in-github",
        "colab_type": "text"
      },
      "source": [
        "<a href=\"https://colab.research.google.com/github/jahid02/AI-Lab/blob/main/nootbook_1.ipynb\" target=\"_parent\"><img src=\"https://colab.research.google.com/assets/colab-badge.svg\" alt=\"Open In Colab\"/></a>"
      ]
    },
    {
      "cell_type": "markdown",
      "metadata": {
        "id": "NNRC3ctOdBou"
      },
      "source": [
        "#My first proggram "
      ]
    },
    {
      "cell_type": "code",
      "metadata": {
        "id": "Ihus3rLLbb65",
        "outputId": "0e80997d-dff2-4835-ccae-4233454da062",
        "colab": {
          "base_uri": "https://localhost:8080/",
          "height": 34
        }
      },
      "source": [
        "print(\"hello bangladesh\")"
      ],
      "execution_count": null,
      "outputs": [
        {
          "output_type": "stream",
          "text": [
            "hello bangladesh\n"
          ],
          "name": "stdout"
        }
      ]
    },
    {
      "cell_type": "markdown",
      "metadata": {
        "id": "fb0FWtZWdjOv"
      },
      "source": [
        "#Variable assign and statemetn"
      ]
    },
    {
      "cell_type": "code",
      "metadata": {
        "id": "67Bk_5mVeFG_",
        "outputId": "7aa60568-a2fb-4c31-a0d6-46fead46b006",
        "colab": {
          "base_uri": "https://localhost:8080/",
          "height": 34
        }
      },
      "source": [
        "x=20\n",
        "y=10\n",
        "print(x+y)"
      ],
      "execution_count": null,
      "outputs": [
        {
          "output_type": "stream",
          "text": [
            "30\n"
          ],
          "name": "stdout"
        }
      ]
    },
    {
      "cell_type": "code",
      "metadata": {
        "id": "r7stdf6MeQPH",
        "outputId": "9477dd62-a182-4fcc-a93a-dbdc96b25963",
        "colab": {
          "base_uri": "https://localhost:8080/",
          "height": 34
        }
      },
      "source": [
        "total = x + y\n",
        "print(total)"
      ],
      "execution_count": null,
      "outputs": [
        {
          "output_type": "stream",
          "text": [
            "30\n"
          ],
          "name": "stdout"
        }
      ]
    },
    {
      "cell_type": "code",
      "metadata": {
        "id": "YKYC2AjSeZ2l",
        "outputId": "e01e35d2-7878-443e-d901-1752417c65ef",
        "colab": {
          "base_uri": "https://localhost:8080/",
          "height": 34
        }
      },
      "source": [
        "fistName = \"jahid\"\n",
        "middleName = \"hassan\"\n",
        "lastName = \"shovon\"\n",
        "print(fistName,middleName,lastName)"
      ],
      "execution_count": null,
      "outputs": [
        {
          "output_type": "stream",
          "text": [
            "jahid hassan shovon\n"
          ],
          "name": "stdout"
        }
      ]
    },
    {
      "cell_type": "markdown",
      "metadata": {
        "id": "2X_Nqtu4fLxB"
      },
      "source": [
        "#type"
      ]
    },
    {
      "cell_type": "code",
      "metadata": {
        "id": "xnMx7kq-fIC9",
        "outputId": "2830cbe8-652d-41b4-919d-fedd7b572595",
        "colab": {
          "base_uri": "https://localhost:8080/",
          "height": 34
        }
      },
      "source": [
        "name = \"jahid\";\n",
        "type(name)"
      ],
      "execution_count": null,
      "outputs": [
        {
          "output_type": "execute_result",
          "data": {
            "text/plain": [
              "str"
            ]
          },
          "metadata": {
            "tags": []
          },
          "execution_count": 16
        }
      ]
    },
    {
      "cell_type": "code",
      "metadata": {
        "id": "_untwMOcgTSd",
        "outputId": "c305c282-8f0e-44c0-ccd3-4a4243002021",
        "colab": {
          "base_uri": "https://localhost:8080/",
          "height": 34
        }
      },
      "source": [
        "type(13.5)"
      ],
      "execution_count": null,
      "outputs": [
        {
          "output_type": "execute_result",
          "data": {
            "text/plain": [
              "float"
            ]
          },
          "metadata": {
            "tags": []
          },
          "execution_count": 17
        }
      ]
    },
    {
      "cell_type": "code",
      "metadata": {
        "id": "n8R7dyYxgYfc",
        "outputId": "0d3b09c9-872e-4864-87af-d851dfdd474a",
        "colab": {
          "base_uri": "https://localhost:8080/",
          "height": 34
        }
      },
      "source": [
        "type(20)"
      ],
      "execution_count": null,
      "outputs": [
        {
          "output_type": "execute_result",
          "data": {
            "text/plain": [
              "int"
            ]
          },
          "metadata": {
            "tags": []
          },
          "execution_count": 18
        }
      ]
    },
    {
      "cell_type": "markdown",
      "metadata": {
        "id": "ajKWMm5sgfYN"
      },
      "source": [
        "#Arithmatic operation"
      ]
    },
    {
      "cell_type": "code",
      "metadata": {
        "id": "fPYDsquIglQX",
        "outputId": "15d003d5-96ef-4b57-897d-6c287b83517f",
        "colab": {
          "base_uri": "https://localhost:8080/",
          "height": 187
        }
      },
      "source": [
        "numberOne = 20\n",
        "numberTwo = 10\n",
        "summation = numberOne + numberTwo\n",
        "subtraction = numberOne - numberTwo\n",
        "multiplication = numberOne * numberTwo\n",
        "division = numberOne / numberTwo\n",
        "reminder = numberOne % numberTwo\n",
        "print(\"Summation is = \", summation, \"\\n\")\n",
        "print(\"Subtraction is = \", subtraction, \"\\n\")\n",
        "print(\"Multiplication is = \", multiplication, \"\\n\")\n",
        "print(\"Division is = \", division, \"\\n\")\n",
        "print(\"Reminder is = \", reminder, \"\\n\")"
      ],
      "execution_count": null,
      "outputs": [
        {
          "output_type": "stream",
          "text": [
            "Summation is =  30 \n",
            "\n",
            "Subtraction is =  10 \n",
            "\n",
            "Multiplication is =  200 \n",
            "\n",
            "Division is =  2.0 \n",
            "\n",
            "Reminder is =  0 \n",
            "\n"
          ],
          "name": "stdout"
        }
      ]
    },
    {
      "cell_type": "code",
      "metadata": {
        "id": "6K19Wg45glPG",
        "outputId": "25c61fc1-3d75-4387-edd6-0747486c92b1",
        "colab": {
          "base_uri": "https://localhost:8080/",
          "height": 34
        }
      },
      "source": [
        "float_divition = 10/3\n",
        "print(float_divition)"
      ],
      "execution_count": null,
      "outputs": [
        {
          "output_type": "stream",
          "text": [
            "3.3333333333333335 0.2\n"
          ],
          "name": "stdout"
        }
      ]
    },
    {
      "cell_type": "code",
      "metadata": {
        "id": "U1E9ZAUkiZCy",
        "outputId": "be48d6d6-223e-4ad3-eff6-92c687664fd0",
        "colab": {
          "base_uri": "https://localhost:8080/",
          "height": 34
        }
      },
      "source": [
        "true_divition = 15/7\n",
        "print(true_divition)"
      ],
      "execution_count": null,
      "outputs": [
        {
          "output_type": "stream",
          "text": [
            "2.142857142857143\n"
          ],
          "name": "stdout"
        }
      ]
    },
    {
      "cell_type": "code",
      "metadata": {
        "id": "pUkn9E3iiZBs",
        "outputId": "4957405b-7988-48ff-8c12-21ec3881c0dc",
        "colab": {
          "base_uri": "https://localhost:8080/",
          "height": 34
        }
      },
      "source": [
        "exponentioal = 3 ** 5\n",
        "print(exponentioal)"
      ],
      "execution_count": null,
      "outputs": [
        {
          "output_type": "stream",
          "text": [
            "243\n"
          ],
          "name": "stdout"
        }
      ]
    },
    {
      "cell_type": "markdown",
      "metadata": {
        "id": "ACQJ8Gs6i3zD"
      },
      "source": [
        "#Logical operation"
      ]
    },
    {
      "cell_type": "code",
      "metadata": {
        "id": "CtaMPKJli8FL",
        "outputId": "ffb24ed1-bfe2-4089-f4ce-1190a5642d13",
        "colab": {
          "base_uri": "https://localhost:8080/",
          "height": 34
        }
      },
      "source": [
        "x = 10\n",
        "y = 5\n",
        "print(x > y)"
      ],
      "execution_count": null,
      "outputs": [
        {
          "output_type": "stream",
          "text": [
            "True\n"
          ],
          "name": "stdout"
        }
      ]
    },
    {
      "cell_type": "code",
      "metadata": {
        "id": "4hDNcmBUjJUC",
        "outputId": "0707797a-90d7-4131-fa2c-c3659817eb34",
        "colab": {
          "base_uri": "https://localhost:8080/",
          "height": 34
        }
      },
      "source": [
        "x = 10\n",
        "y = 5\n",
        "print(x < y)"
      ],
      "execution_count": null,
      "outputs": [
        {
          "output_type": "stream",
          "text": [
            "False\n"
          ],
          "name": "stdout"
        }
      ]
    },
    {
      "cell_type": "code",
      "metadata": {
        "id": "roQppWBFjLlz",
        "outputId": "7dc4f9c4-4bae-48ec-d474-b315891595de",
        "colab": {
          "base_uri": "https://localhost:8080/",
          "height": 34
        }
      },
      "source": [
        "x = 10\n",
        "y = 5\n",
        "print(x == y)"
      ],
      "execution_count": null,
      "outputs": [
        {
          "output_type": "stream",
          "text": [
            "False\n"
          ],
          "name": "stdout"
        }
      ]
    },
    {
      "cell_type": "code",
      "metadata": {
        "id": "uCEflBLqjPwY",
        "outputId": "58891bc0-32e9-43b6-ce13-325eb768fe98",
        "colab": {
          "base_uri": "https://localhost:8080/",
          "height": 34
        }
      },
      "source": [
        "x = 10\n",
        "y = 5\n",
        "print(x >= y)"
      ],
      "execution_count": null,
      "outputs": [
        {
          "output_type": "stream",
          "text": [
            "True\n"
          ],
          "name": "stdout"
        }
      ]
    },
    {
      "cell_type": "code",
      "metadata": {
        "id": "pER_JlC3jPve",
        "outputId": "fbaf530a-aa63-4de3-bc19-ce04fe7d25be",
        "colab": {
          "base_uri": "https://localhost:8080/",
          "height": 34
        }
      },
      "source": [
        "x = 10\n",
        "y = 5\n",
        "print(x <= y)"
      ],
      "execution_count": null,
      "outputs": [
        {
          "output_type": "stream",
          "text": [
            "False\n"
          ],
          "name": "stdout"
        }
      ]
    },
    {
      "cell_type": "code",
      "metadata": {
        "id": "vCT5rq-CjVTB",
        "outputId": "017c4983-5313-407d-8e87-34a7d613f13c",
        "colab": {
          "base_uri": "https://localhost:8080/",
          "height": 34
        }
      },
      "source": [
        "x = 10\n",
        "y = 5\n",
        "print(x != y)"
      ],
      "execution_count": null,
      "outputs": [
        {
          "output_type": "stream",
          "text": [
            "True\n"
          ],
          "name": "stdout"
        }
      ]
    },
    {
      "cell_type": "markdown",
      "metadata": {
        "id": "7KgbAWtYjxMl"
      },
      "source": [
        "#Chaining comparison"
      ]
    },
    {
      "cell_type": "code",
      "metadata": {
        "id": "jGHhzPMoj1aW",
        "outputId": "cde2d61f-7d57-4342-d83c-d8c8454275a2",
        "colab": {
          "base_uri": "https://localhost:8080/",
          "height": 34
        }
      },
      "source": [
        "x = 15\n",
        "y = 12\n",
        "print(1 <= x <= 20)"
      ],
      "execution_count": null,
      "outputs": [
        {
          "output_type": "stream",
          "text": [
            "True\n"
          ],
          "name": "stdout"
        }
      ]
    },
    {
      "cell_type": "code",
      "metadata": {
        "id": "_tVdFZ2pkLI8",
        "outputId": "65b62ae5-9ff6-403c-e853-fb33d6da5edd",
        "colab": {
          "base_uri": "https://localhost:8080/",
          "height": 34
        }
      },
      "source": [
        "x = 15\n",
        "y = 12\n",
        "print(1 <= x <= 10)"
      ],
      "execution_count": null,
      "outputs": [
        {
          "output_type": "stream",
          "text": [
            "False\n"
          ],
          "name": "stdout"
        }
      ]
    },
    {
      "cell_type": "markdown",
      "metadata": {
        "id": "as1m68H9kPru"
      },
      "source": [
        "#Printing a Comma-Separated List of Items"
      ]
    },
    {
      "cell_type": "code",
      "metadata": {
        "id": "QF-MEzMmka0A",
        "outputId": "8918751b-06e3-4331-d7e2-4d7865fd38e5",
        "colab": {
          "base_uri": "https://localhost:8080/",
          "height": 34
        }
      },
      "source": [
        "print(\"Hello, \", \"This \", \"is \", \"jahid \", \"hassan\")"
      ],
      "execution_count": null,
      "outputs": [
        {
          "output_type": "stream",
          "text": [
            "Hello,  This  is  jahid  hassan\n"
          ],
          "name": "stdout"
        }
      ]
    },
    {
      "cell_type": "markdown",
      "metadata": {
        "id": "c-RT29Onk5Ip"
      },
      "source": [
        "#Printing Many Lines of Text with One Statement"
      ]
    },
    {
      "cell_type": "code",
      "metadata": {
        "id": "QJFdSJvAkay7",
        "outputId": "c19bf20b-7209-4c09-c424-e169136191a7",
        "colab": {
          "base_uri": "https://localhost:8080/",
          "height": 51
        }
      },
      "source": [
        "print(\"This is jahid hassan \\\"shovon\\\".\\n \\t Welcome to the \\'python\\' code\")"
      ],
      "execution_count": null,
      "outputs": [
        {
          "output_type": "stream",
          "text": [
            "This is jahid hassan \"shovon\".\n",
            " \t Welcome to the 'python' code\n"
          ],
          "name": "stdout"
        }
      ]
    },
    {
      "cell_type": "markdown",
      "metadata": {
        "id": "7RS-E8JUmGu_"
      },
      "source": [
        "#print value till 2 decimal places"
      ]
    },
    {
      "cell_type": "code",
      "metadata": {
        "id": "lptP9-h5mIRC",
        "outputId": "c15053b8-e7aa-4cd7-f765-f5ad9a2a2f76",
        "colab": {
          "base_uri": "https://localhost:8080/",
          "height": 34
        }
      },
      "source": [
        "a=10/3\n",
        "print (\"The value of number till 2 decimal place (using %) is :\",end=\"\") \n",
        "print ('%.2f' %a)"
      ],
      "execution_count": null,
      "outputs": [
        {
          "output_type": "stream",
          "text": [
            "The value of number till 2 decimal place (using %) is :3.33\n"
          ],
          "name": "stdout"
        }
      ]
    },
    {
      "cell_type": "markdown",
      "metadata": {
        "id": "OG7S2rFXnD5x"
      },
      "source": [
        "#Getting Input from the User"
      ]
    },
    {
      "cell_type": "code",
      "metadata": {
        "id": "3fyyKKGTnFv-",
        "outputId": "436e24d9-fd0c-4b58-9dff-cace9c03e40b",
        "colab": {
          "base_uri": "https://localhost:8080/",
          "height": 119
        }
      },
      "source": [
        "print(\"Enter number one : \")\n",
        "x = int(input())\n",
        "\n",
        "print(\"Enter number tow : \")\n",
        "y = int(input())\n",
        "\n",
        "print(\"\\nTotal : \", x+y)\n"
      ],
      "execution_count": null,
      "outputs": [
        {
          "output_type": "stream",
          "text": [
            "Enter number one : \n",
            "10\n",
            "Enter number tow : \n",
            "20\n",
            "\n",
            "Total :  30\n"
          ],
          "name": "stdout"
        }
      ]
    },
    {
      "cell_type": "code",
      "metadata": {
        "id": "_wO_sMWWnFt1",
        "outputId": "95ad2f02-f48d-4470-ec46-6b12c8009476",
        "colab": {
          "base_uri": "https://localhost:8080/",
          "height": 119
        }
      },
      "source": [
        "print(\"Enter first name : \")\n",
        "x = input()\n",
        "\n",
        "print(\"Enter last name : \")\n",
        "y = input()\n",
        "\n",
        "print(\"\\nFull name : \", x,y)\n"
      ],
      "execution_count": null,
      "outputs": [
        {
          "output_type": "stream",
          "text": [
            "Enter first name : \n",
            "jahid\n",
            "Enter last name : \n",
            "hassan\n",
            "\n",
            "Full name :  jahid hassan\n"
          ],
          "name": "stdout"
        }
      ]
    },
    {
      "cell_type": "markdown",
      "metadata": {
        "id": "PNDVFJM7oPsa"
      },
      "source": [
        "#Minimum and Maximum"
      ]
    },
    {
      "cell_type": "code",
      "metadata": {
        "id": "eakUluM9oTZw",
        "outputId": "d1ebef02-77ec-40ef-f8db-670ac144ccb8",
        "colab": {
          "base_uri": "https://localhost:8080/",
          "height": 85
        }
      },
      "source": [
        "x = int(input())\n",
        "y = int(input())\n",
        "z = int(input())\n",
        "\n",
        "print(\"Maximum Number is : \",max(x,y,z))"
      ],
      "execution_count": null,
      "outputs": [
        {
          "output_type": "stream",
          "text": [
            "20\n",
            "10\n",
            "15\n",
            "Maximum Number is :  20\n"
          ],
          "name": "stdout"
        }
      ]
    },
    {
      "cell_type": "code",
      "metadata": {
        "id": "jYdkd0Eno8SY",
        "outputId": "4c335d77-453f-46fd-ec4e-99954ed4a99f",
        "colab": {
          "base_uri": "https://localhost:8080/",
          "height": 85
        }
      },
      "source": [
        "x = int(input())\n",
        "y = int(input())\n",
        "z = int(input())\n",
        "\n",
        "print(\"Minimum Number is : \",min(x,y,z))"
      ],
      "execution_count": null,
      "outputs": [
        {
          "output_type": "stream",
          "text": [
            "10\n",
            "5\n",
            "20\n",
            "Minimum Number is :  5\n"
          ],
          "name": "stdout"
        }
      ]
    }
  ]
}