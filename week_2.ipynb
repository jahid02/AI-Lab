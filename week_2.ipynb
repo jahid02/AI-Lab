{
  "nbformat": 4,
  "nbformat_minor": 0,
  "metadata": {
    "colab": {
      "name": "week_2.ipynb",
      "provenance": [],
      "collapsed_sections": [],
      "authorship_tag": "ABX9TyOkhd3s6DpzpKsysvgiO+Gp",
      "include_colab_link": true
    },
    "kernelspec": {
      "name": "python3",
      "display_name": "Python 3"
    }
  },
  "cells": [
    {
      "cell_type": "markdown",
      "metadata": {
        "id": "view-in-github",
        "colab_type": "text"
      },
      "source": [
        "<a href=\"https://colab.research.google.com/github/jahid02/AI-Lab/blob/main/week_2.ipynb\" target=\"_parent\"><img src=\"https://colab.research.google.com/assets/colab-badge.svg\" alt=\"Open In Colab\"/></a>"
      ]
    },
    {
      "cell_type": "markdown",
      "metadata": {
        "id": "2UEw-C--QB02"
      },
      "source": [
        "#If statement"
      ]
    },
    {
      "cell_type": "code",
      "metadata": {
        "id": "DJwzPgpDQH_3",
        "outputId": "2a261578-c51c-4a81-aa86-f90e29422c45",
        "colab": {
          "base_uri": "https://localhost:8080/",
          "height": 34
        }
      },
      "source": [
        "num = 60\n",
        "if num>33:\n",
        "  print(\"Pssed\")"
      ],
      "execution_count": 1,
      "outputs": [
        {
          "output_type": "stream",
          "text": [
            "Pssed\n"
          ],
          "name": "stdout"
        }
      ]
    },
    {
      "cell_type": "code",
      "metadata": {
        "id": "58jQG_L4QjzW",
        "outputId": "2b13fd56-ee69-40e0-ab5e-ae1e70da804a",
        "colab": {
          "base_uri": "https://localhost:8080/",
          "height": 34
        }
      },
      "source": [
        "number = 32\n",
        "if number > 33:\n",
        "  print(\"Passed\")\n",
        "else:\n",
        "  print(\"Fail\")"
      ],
      "execution_count": 5,
      "outputs": [
        {
          "output_type": "stream",
          "text": [
            "Fail\n"
          ],
          "name": "stdout"
        }
      ]
    },
    {
      "cell_type": "code",
      "metadata": {
        "id": "wThDrq2fQj0o",
        "outputId": "630ff202-4dfb-431e-a744-92143a4f15bf",
        "colab": {
          "base_uri": "https://localhost:8080/",
          "height": 34
        }
      },
      "source": [
        "x = 20\n",
        "if x > 0:\n",
        "  print(\"The number is grater then 0\")\n",
        "elif x < 0:\n",
        "  print(\"The number is less then o\")\n",
        "else:\n",
        "  print(\"The number is zero\")"
      ],
      "execution_count": 8,
      "outputs": [
        {
          "output_type": "stream",
          "text": [
            "The number is grater then 0\n"
          ],
          "name": "stdout"
        }
      ]
    },
    {
      "cell_type": "code",
      "metadata": {
        "id": "Z3CWgQnBRrY8",
        "outputId": "fc363a1d-3fe4-4070-f4cb-95991247d085",
        "colab": {
          "base_uri": "https://localhost:8080/",
          "height": 68
        }
      },
      "source": [
        "print(\"Please enter your number : \")\n",
        "grade = int(input())\n",
        "\n",
        "if (grade > 100 or grade < 0):\n",
        "  print('Please enter between 0 to 100')\n",
        "\n",
        "elif grade >= 80:\n",
        "  print('Your grade is : A')\n",
        "\n",
        "elif grade >= 70:\n",
        "  print('Your grade is : A')\n",
        "\n",
        "elif grade >= 60:\n",
        "  print('Your grade is : A-')\n",
        "\n",
        "elif grade >= 50:\n",
        "  print('Your grade is : B')\n",
        "\n",
        "elif grade >= 40:\n",
        "  print('Your grade is : C')\n",
        "\n",
        "elif grade >= 33:\n",
        "  print('Your grade is : D')\n",
        "\n",
        "else:\n",
        "  print('Your grade is : F')"
      ],
      "execution_count": 16,
      "outputs": [
        {
          "output_type": "stream",
          "text": [
            "Please enter your number : \n",
            "77\n",
            "Your grade is : A\n"
          ],
          "name": "stdout"
        }
      ]
    },
    {
      "cell_type": "markdown",
      "metadata": {
        "id": "PNZvAiE2UFyC"
      },
      "source": [
        "#While Statement"
      ]
    },
    {
      "cell_type": "code",
      "metadata": {
        "id": "qXSxPtUYRrX5",
        "outputId": "b449950a-df04-4669-d911-e8a2c064180f",
        "colab": {
          "base_uri": "https://localhost:8080/",
          "height": 102
        }
      },
      "source": [
        "print(\"Please enter ending number : \")\n",
        "x = int(input())\n",
        "number = 1\n",
        "\n",
        "print(\"Print number between 1 to \", x, \"\\n\")\n",
        "while (number<=x):\n",
        "  print(number, end=\" \")\n",
        "  number+=1"
      ],
      "execution_count": 25,
      "outputs": [
        {
          "output_type": "stream",
          "text": [
            "Please enter ending number : \n",
            "25\n",
            "Print number between 1 to  25 \n",
            "\n",
            "1 2 3 4 5 6 7 8 9 10 11 12 13 14 15 16 17 18 19 20 21 22 23 24 25 "
          ],
          "name": "stdout"
        }
      ]
    },
    {
      "cell_type": "markdown",
      "metadata": {
        "id": "Ltaod8CBXOKf"
      },
      "source": [
        "#while statement to find the first power of 4 larger than 100"
      ]
    },
    {
      "cell_type": "code",
      "metadata": {
        "id": "2nziqFKaWzyH",
        "outputId": "a31c904a-cca0-4915-e63f-f6bf212e9a84",
        "colab": {
          "base_uri": "https://localhost:8080/",
          "height": 34
        }
      },
      "source": [
        "product = 4\n",
        "\n",
        "while product<=100:\n",
        "  product = product*4\n",
        "\n",
        "print(product)"
      ],
      "execution_count": 31,
      "outputs": [
        {
          "output_type": "stream",
          "text": [
            "256\n"
          ],
          "name": "stdout"
        }
      ]
    },
    {
      "cell_type": "markdown",
      "metadata": {
        "id": "cyuJ_fv4XOIn"
      },
      "source": [
        "#For statement"
      ]
    },
    {
      "cell_type": "code",
      "metadata": {
        "id": "sEowD6i2Xypk",
        "outputId": "1f9e88d5-1220-4494-b6a1-541ca8ecd22d",
        "colab": {
          "base_uri": "https://localhost:8080/",
          "height": 68
        }
      },
      "source": [
        "print(\"Please enter your string\")\n",
        "x = input()\n",
        "for character in x:\n",
        "  print(character, end=\" \")"
      ],
      "execution_count": 33,
      "outputs": [
        {
          "output_type": "stream",
          "text": [
            "Please enter your string\n",
            "bangladesh\n",
            "b a n g l a d e s h "
          ],
          "name": "stdout"
        }
      ]
    },
    {
      "cell_type": "markdown",
      "metadata": {
        "id": "wzKPJjzMYR3m"
      },
      "source": [
        "#Range function"
      ]
    },
    {
      "cell_type": "code",
      "metadata": {
        "id": "Hnb81mWUYWEG",
        "outputId": "5d9ca5a2-d8ff-443f-c6a7-6f9641e15096",
        "colab": {
          "base_uri": "https://localhost:8080/",
          "height": 68
        }
      },
      "source": [
        "print(\"Please enter your range\")\n",
        "x = int(input())\n",
        "for counter in range(x):\n",
        "  print(counter, end=\" \")"
      ],
      "execution_count": 35,
      "outputs": [
        {
          "output_type": "stream",
          "text": [
            "Please enter your range\n",
            "20\n",
            "0 1 2 3 4 5 6 7 8 9 10 11 12 13 14 15 16 17 18 19 "
          ],
          "name": "stdout"
        }
      ]
    },
    {
      "cell_type": "markdown",
      "metadata": {
        "id": "viPUliN3YuN-"
      },
      "source": [
        "#using range function to calculate sum"
      ]
    },
    {
      "cell_type": "code",
      "metadata": {
        "id": "TrrOSMu4Y0Vl",
        "outputId": "18da0814-df00-44e4-c543-7ee56f30570d",
        "colab": {
          "base_uri": "https://localhost:8080/",
          "height": 68
        }
      },
      "source": [
        "print(\"Please enter you number\")\n",
        "x = int(input())\n",
        "sum = 0\n",
        "\n",
        "for num in range(x):\n",
        "  sum = num + sum\n",
        "\n",
        "print(\"Total : \", sum)"
      ],
      "execution_count": 36,
      "outputs": [
        {
          "output_type": "stream",
          "text": [
            "Please enter you number\n",
            "9\n",
            "Total :  36\n"
          ],
          "name": "stdout"
        }
      ]
    },
    {
      "cell_type": "markdown",
      "metadata": {
        "id": "d88Lj-5xYuLA"
      },
      "source": [
        "#two parameter in range function"
      ]
    },
    {
      "cell_type": "code",
      "metadata": {
        "id": "fN1ti0GmZhls",
        "outputId": "187cd3f6-735d-43e0-8482-a6c576462e3d",
        "colab": {
          "base_uri": "https://localhost:8080/",
          "height": 102
        }
      },
      "source": [
        "print(\"Please enter you starting number\")\n",
        "x = int(input())\n",
        "\n",
        "print(\"Please enter you ending number\")\n",
        "y = int(input())\n",
        "\n",
        "\n",
        "for counter in range(x, y):\n",
        "  print(counter, end=\" \")"
      ],
      "execution_count": 37,
      "outputs": [
        {
          "output_type": "stream",
          "text": [
            "Please enter you starting number\n",
            "10\n",
            "Please enter you ending number\n",
            "30\n",
            "10 11 12 13 14 15 16 17 18 19 20 21 22 23 24 25 26 27 28 29 "
          ],
          "name": "stdout"
        }
      ]
    },
    {
      "cell_type": "markdown",
      "metadata": {
        "id": "u1-S24BpaCsc"
      },
      "source": [
        "#Three parameter in range function"
      ]
    },
    {
      "cell_type": "code",
      "metadata": {
        "id": "XGbE-bOKaGgS",
        "outputId": "27a0e264-15f6-4d68-c8a8-c5eb309d37b9",
        "colab": {
          "base_uri": "https://localhost:8080/",
          "height": 136
        }
      },
      "source": [
        "print(\"Please enter you starting number\")\n",
        "x = int(input())\n",
        "\n",
        "print(\"Please enter you ending number\")\n",
        "y = int(input())\n",
        "\n",
        "print(\"Please enter diffrence between two number\")\n",
        "z = int(input())\n",
        "\n",
        "\n",
        "for counter in range(x, y, z):\n",
        "  print(counter, end=\" \")"
      ],
      "execution_count": 38,
      "outputs": [
        {
          "output_type": "stream",
          "text": [
            "Please enter you starting number\n",
            "10\n",
            "Please enter you ending number\n",
            "40\n",
            "Please enter diffrence between two number\n",
            "2\n",
            "10 12 14 16 18 20 22 24 26 28 30 32 34 36 38 "
          ],
          "name": "stdout"
        }
      ]
    },
    {
      "cell_type": "markdown",
      "metadata": {
        "id": "DYkaCbLKaiDB"
      },
      "source": [
        "#Number table"
      ]
    },
    {
      "cell_type": "code",
      "metadata": {
        "id": "u-IsU3UPaGeO",
        "outputId": "d2bef3e0-7bd3-4ebc-bb2d-f72bbd26b4c3",
        "colab": {
          "base_uri": "https://localhost:8080/",
          "height": 221
        }
      },
      "source": [
        "print(\"Please enter you number\")\n",
        "x = int(input())\n",
        "for i in range(1,11):\n",
        "  print(x,\" X \",i,\"=\",x*i)"
      ],
      "execution_count": 40,
      "outputs": [
        {
          "output_type": "stream",
          "text": [
            "Please enter you number\n",
            "8\n",
            "8  X  1 = 8\n",
            "8  X  2 = 16\n",
            "8  X  3 = 24\n",
            "8  X  4 = 32\n",
            "8  X  5 = 40\n",
            "8  X  6 = 48\n",
            "8  X  7 = 56\n",
            "8  X  8 = 64\n",
            "8  X  9 = 72\n",
            "8  X  10 = 80\n"
          ],
          "name": "stdout"
        }
      ]
    },
    {
      "cell_type": "markdown",
      "metadata": {
        "id": "HpR8Csn4blmc"
      },
      "source": [
        "#Nasted loop"
      ]
    },
    {
      "cell_type": "code",
      "metadata": {
        "id": "LCjPTgtbboJ7",
        "outputId": "c425587f-183f-4194-c0b3-7e0ecde2f25b",
        "colab": {
          "base_uri": "https://localhost:8080/",
          "height": 204
        }
      },
      "source": [
        "print(\"Please enter you Range\")\n",
        "x = int(input())\n",
        "\n",
        "for i in range(x):\n",
        "  for j in range(i,x):\n",
        "    print(\"[\"+str(i)+\"|\"+str(j)+\"]\", end =\"\")\n",
        "  print()"
      ],
      "execution_count": 44,
      "outputs": [
        {
          "output_type": "stream",
          "text": [
            "Please enter you Range\n",
            "9\n",
            "[0|0][0|1][0|2][0|3][0|4][0|5][0|6][0|7][0|8]\n",
            "[1|1][1|2][1|3][1|4][1|5][1|6][1|7][1|8]\n",
            "[2|2][2|3][2|4][2|5][2|6][2|7][2|8]\n",
            "[3|3][3|4][3|5][3|6][3|7][3|8]\n",
            "[4|4][4|5][4|6][4|7][4|8]\n",
            "[5|5][5|6][5|7][5|8]\n",
            "[6|6][6|7][6|8]\n",
            "[7|7][7|8]\n",
            "[8|8]\n"
          ],
          "name": "stdout"
        }
      ]
    },
    {
      "cell_type": "markdown",
      "metadata": {
        "id": "M681edVOcuA8"
      },
      "source": [
        "#break statement"
      ]
    },
    {
      "cell_type": "code",
      "metadata": {
        "id": "nOVT3_KZcxef",
        "outputId": "9a5299fb-5f40-4f03-e107-140ead2e454d",
        "colab": {
          "base_uri": "https://localhost:8080/",
          "height": 68
        }
      },
      "source": [
        "print(\"Please enter you Range\")\n",
        "x = int(input())\n",
        "for number in range(x):\n",
        "  if number==10:\n",
        "    break\n",
        "  print(number, end=\" \")"
      ],
      "execution_count": 48,
      "outputs": [
        {
          "output_type": "stream",
          "text": [
            "Please enter you Range\n",
            "30\n",
            "0 1 2 3 4 5 6 7 8 9 "
          ],
          "name": "stdout"
        }
      ]
    },
    {
      "cell_type": "markdown",
      "metadata": {
        "id": "4sINbMJ7dX3D"
      },
      "source": [
        "#continue statement"
      ]
    },
    {
      "cell_type": "code",
      "metadata": {
        "id": "dxqHutE0cxdK",
        "outputId": "f9723de6-1a1a-4331-c39c-8b71de005fc1",
        "colab": {
          "base_uri": "https://localhost:8080/",
          "height": 68
        }
      },
      "source": [
        "print(\"Please enter you Range\")\n",
        "x = int(input())\n",
        "for number in range(x):\n",
        "  if number%2==0:\n",
        "    continue\n",
        "  print(number, end=\" \")"
      ],
      "execution_count": 49,
      "outputs": [
        {
          "output_type": "stream",
          "text": [
            "Please enter you Range\n",
            "30\n",
            "1 3 5 7 9 11 13 15 17 19 21 23 25 27 29 "
          ],
          "name": "stdout"
        }
      ]
    }
  ]
}