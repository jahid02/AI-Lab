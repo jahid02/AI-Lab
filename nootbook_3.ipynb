{
  "nbformat": 4,
  "nbformat_minor": 0,
  "metadata": {
    "colab": {
      "name": "nootbook_3.ipynb",
      "provenance": [],
      "authorship_tag": "ABX9TyN3IdXJ1KG91VmXgqb9QXr+",
      "include_colab_link": true
    },
    "kernelspec": {
      "name": "python3",
      "display_name": "Python 3"
    }
  },
  "cells": [
    {
      "cell_type": "markdown",
      "metadata": {
        "id": "view-in-github",
        "colab_type": "text"
      },
      "source": [
        "<a href=\"https://colab.research.google.com/github/jahid02/AI-Lab/blob/main/nootbook_3.ipynb\" target=\"_parent\"><img src=\"https://colab.research.google.com/assets/colab-badge.svg\" alt=\"Open In Colab\"/></a>"
      ]
    },
    {
      "cell_type": "markdown",
      "metadata": {
        "id": "25P8LI7yhbpY"
      },
      "source": [
        "#Build in function"
      ]
    },
    {
      "cell_type": "code",
      "metadata": {
        "id": "IERC34r0hjtR",
        "outputId": "fe105ff3-20ac-47cb-f935-9be14bc9775e",
        "colab": {
          "base_uri": "https://localhost:8080/",
          "height": 85
        }
      },
      "source": [
        "print(\"print is a build in function\")\n",
        "print(\"input is a build in function\")\n",
        "\n",
        "x = 10\n",
        "y = 15\n",
        "print(max(x,y))\n",
        "print(min(x,y))"
      ],
      "execution_count": 3,
      "outputs": [
        {
          "output_type": "stream",
          "text": [
            "print is a build in function\n",
            "input is a build in function\n",
            "15\n",
            "10\n"
          ],
          "name": "stdout"
        }
      ]
    },
    {
      "cell_type": "markdown",
      "metadata": {
        "id": "S7MobA7Pgm_C"
      },
      "source": [
        "#User define function"
      ]
    },
    {
      "cell_type": "code",
      "metadata": {
        "id": "h87_BTXvfUMy",
        "outputId": "b0c6138e-f273-4a5a-a562-25001ff56802",
        "colab": {
          "base_uri": "https://localhost:8080/",
          "height": 102
        }
      },
      "source": [
        "\n",
        "def sum(a, b):\n",
        "  return a+b\n",
        "\n",
        "print(\"Please enter your first number\")\n",
        "x = int(input())\n",
        "\n",
        "print(\"Please enter your second number\")\n",
        "y = int(input())\n",
        "\n",
        "total = sum(x,y)\n",
        "print(\"Total is : \", total)"
      ],
      "execution_count": 2,
      "outputs": [
        {
          "output_type": "stream",
          "text": [
            "Please enter your first number\n",
            "10\n",
            "Please enter your second number\n",
            "20\n",
            "Total is :  30\n"
          ],
          "name": "stdout"
        }
      ]
    },
    {
      "cell_type": "markdown",
      "metadata": {
        "id": "C1vaan50iKdH"
      },
      "source": [
        "#function with multiple parameters"
      ]
    },
    {
      "cell_type": "code",
      "metadata": {
        "id": "qFhSGYRQiM5f",
        "outputId": "bd10e3ed-7a1f-4c70-df23-fb9edb58869f",
        "colab": {
          "base_uri": "https://localhost:8080/",
          "height": 136
        }
      },
      "source": [
        "def multipleSum(a, b, c=0):\n",
        "  return a+b+c\n",
        "\n",
        "print(\"Please enter your first number\")\n",
        "x = int(input())\n",
        "\n",
        "print(\"Please enter your second number\")\n",
        "y = int(input())\n",
        "\n",
        "print(\"Please enter your third number\")\n",
        "z = int(input())\n",
        "\n",
        "total = multipleSum(x,y,z)\n",
        "print(\"Total is : \", total)\n"
      ],
      "execution_count": 5,
      "outputs": [
        {
          "output_type": "stream",
          "text": [
            "Please enter your first number\n",
            "10\n",
            "Please enter your second number\n",
            "20\n",
            "Please enter your third number\n",
            "30\n",
            "Total is :  60\n"
          ],
          "name": "stdout"
        }
      ]
    },
    {
      "cell_type": "markdown",
      "metadata": {
        "id": "z-tSkSU9i5JV"
      },
      "source": [
        "##function without parameter"
      ]
    },
    {
      "cell_type": "code",
      "metadata": {
        "id": "i0nBCYR5i6iN",
        "outputId": "299f1574-072f-4308-ff06-a831ef3ed2a4",
        "colab": {
          "base_uri": "https://localhost:8080/",
          "height": 34
        }
      },
      "source": [
        "\n",
        "def sumation():\n",
        "  a = 10\n",
        "  b = 15\n",
        "  return a+b\n",
        "\n",
        "total = sumation()\n",
        "print(\"Total is : \", total)"
      ],
      "execution_count": 6,
      "outputs": [
        {
          "output_type": "stream",
          "text": [
            "Total is :  25\n"
          ],
          "name": "stdout"
        }
      ]
    },
    {
      "cell_type": "markdown",
      "metadata": {
        "id": "63sjcAL9i5H8"
      },
      "source": [
        "#local scope"
      ]
    },
    {
      "cell_type": "code",
      "metadata": {
        "id": "gtoICTOAjWpF",
        "outputId": "684b93e7-a78e-4546-884d-b29e34bb7dad",
        "colab": {
          "base_uri": "https://localhost:8080/",
          "height": 197
        }
      },
      "source": [
        "def sumTwo():\n",
        "    q = 20\n",
        "    \n",
        "print(q)"
      ],
      "execution_count": 13,
      "outputs": [
        {
          "output_type": "error",
          "ename": "NameError",
          "evalue": "ignored",
          "traceback": [
            "\u001b[0;31m---------------------------------------------------------------------------\u001b[0m",
            "\u001b[0;31mNameError\u001b[0m                                 Traceback (most recent call last)",
            "\u001b[0;32m<ipython-input-13-101dce125195>\u001b[0m in \u001b[0;36m<module>\u001b[0;34m()\u001b[0m\n\u001b[1;32m      3\u001b[0m     \u001b[0ms\u001b[0m \u001b[0;34m=\u001b[0m \u001b[0;36m30\u001b[0m\u001b[0;34m\u001b[0m\u001b[0;34m\u001b[0m\u001b[0m\n\u001b[1;32m      4\u001b[0m \u001b[0;34m\u001b[0m\u001b[0m\n\u001b[0;32m----> 5\u001b[0;31m \u001b[0mprint\u001b[0m\u001b[0;34m(\u001b[0m\u001b[0mq\u001b[0m\u001b[0;34m)\u001b[0m\u001b[0;34m\u001b[0m\u001b[0;34m\u001b[0m\u001b[0m\n\u001b[0m",
            "\u001b[0;31mNameError\u001b[0m: name 'q' is not defined"
          ]
        }
      ]
    },
    {
      "cell_type": "markdown",
      "metadata": {
        "id": "KqTMTW_vk9_v"
      },
      "source": [
        "#Global scope"
      ]
    },
    {
      "cell_type": "code",
      "metadata": {
        "id": "Ndfj2XoolAe7",
        "outputId": "1f79c256-c495-4da1-f2d5-8cc9729e3b45",
        "colab": {
          "base_uri": "https://localhost:8080/",
          "height": 34
        }
      },
      "source": [
        "q=10\n",
        "\n",
        "def sumTwo():\n",
        "    q = 20\n",
        "    \n",
        "print(q)"
      ],
      "execution_count": 14,
      "outputs": [
        {
          "output_type": "stream",
          "text": [
            "10\n"
          ],
          "name": "stdout"
        }
      ]
    },
    {
      "cell_type": "markdown",
      "metadata": {
        "id": "NAvuTfG8ln-5"
      },
      "source": [
        "#math library"
      ]
    },
    {
      "cell_type": "code",
      "metadata": {
        "id": "eETaaTAzlqVs",
        "outputId": "eb345b64-7535-4c5d-cf03-3f26c4a3a564",
        "colab": {
          "base_uri": "https://localhost:8080/",
          "height": 187
        }
      },
      "source": [
        "import math               # first import math library\n",
        "\n",
        "print(math.pi)            #value of pi\n",
        "\n",
        "x=20.3\n",
        "\n",
        "print(math.ceil(x))       #round to the smallest integer not less than x\n",
        "\n",
        "print(math.floor(x))      #rount to the largest integer not greater than x\n",
        "\n",
        "print(math.factorial(5))  #factorial to the 5\n",
        "\n",
        "print (math.gcd(3, 6))    #gcd of 3 and 6\n",
        "\n",
        "print(math.sin(90))       #trigonometric sine of 90 (90 in radians)\n",
        "\n",
        "print(math.tan(90))       #trigonometric tan of 90 (90 in radians)\n",
        "\n",
        "print(math.cos(90))       #trigonometric cos of 90 (90 in radians)\n",
        "\n",
        "print(math.pow(2,3))      #2 to the power 3\n",
        "\n",
        "print(math.sqrt(4))       #squre of 4"
      ],
      "execution_count": 15,
      "outputs": [
        {
          "output_type": "stream",
          "text": [
            "3.141592653589793\n",
            "21\n",
            "20\n",
            "120\n",
            "3\n",
            "0.8939966636005579\n",
            "-1.995200412208242\n",
            "-0.4480736161291701\n",
            "8.0\n",
            "2.0\n"
          ],
          "name": "stdout"
        }
      ]
    },
    {
      "cell_type": "markdown",
      "metadata": {
        "id": "_28fGaRLpF0F"
      },
      "source": [
        "#csv module"
      ]
    },
    {
      "cell_type": "code",
      "metadata": {
        "id": "Lb2MSuXCpHYJ"
      },
      "source": [
        ""
      ],
      "execution_count": 33,
      "outputs": []
    }
  ]
}